{
 "cells": [
  {
   "cell_type": "code",
   "execution_count": 1,
   "id": "c68107c5",
   "metadata": {},
   "outputs": [],
   "source": [
    "import torch\n",
    "import torch.nn as nn\n",
    "import torch.nn.functional as F\n",
    "import torch.optim as optim\n",
    "from torchvision import datasets, transforms\n",
    "import matplotlib.pyplot as plt\n",
    "from torchvision.utils import save_image"
   ]
  },
  {
   "cell_type": "markdown",
   "id": "bbd618f9",
   "metadata": {},
   "source": [
    "Для расчетан а GPU"
   ]
  },
  {
   "cell_type": "code",
   "execution_count": 2,
   "id": "cfd2eb9b",
   "metadata": {},
   "outputs": [
    {
     "data": {
      "text/plain": [
       "device(type='cuda')"
      ]
     },
     "execution_count": 2,
     "metadata": {},
     "output_type": "execute_result"
    }
   ],
   "source": [
    "device = torch.device('cuda' if torch.cuda.is_available() else 'cpu')\n",
    "device"
   ]
  },
  {
   "cell_type": "markdown",
   "id": "74d86a91",
   "metadata": {},
   "source": [
    "Загрузка датасета и формирование даталодера"
   ]
  },
  {
   "cell_type": "code",
   "execution_count": 3,
   "id": "a32efb5f",
   "metadata": {},
   "outputs": [],
   "source": [
    "transform = transforms.Compose([\n",
    "    transforms.ToTensor(),\n",
    "    transforms.Normalize(mean=(0.5), std=(0.5))])\n",
    "\n",
    "train_dataset = datasets.MNIST(root='./mnist_data/', train=True, transform=transform, download=False)\n",
    "test_dataset = datasets.MNIST(root='./mnist_data/', train=False, transform=transform, download=False)\n",
    "\n",
    "train_loader = torch.utils.data.DataLoader(dataset=train_dataset, batch_size=100, shuffle=True)\n",
    "test_loader = torch.utils.data.DataLoader(dataset=test_dataset, batch_size=100, shuffle=False)"
   ]
  },
  {
   "cell_type": "markdown",
   "id": "5cb96d8a",
   "metadata": {},
   "source": [
    "Генератор и дискриминатор (со сверточными слоями в структуре)"
   ]
  },
  {
   "cell_type": "code",
   "execution_count": 4,
   "id": "a37da524",
   "metadata": {},
   "outputs": [],
   "source": [
    "class Generator(nn.Module):\n",
    "    def __init__(self):\n",
    "        super(Generator, self).__init__()       \n",
    "        self.seq = nn.Sequential(\n",
    "            nn.ConvTranspose2d(100, 64, kernel_size=7, stride=1, padding=0, bias=False),\n",
    "            nn.BatchNorm2d(64),\n",
    "            nn.ReLU(),\n",
    "            nn.ConvTranspose2d(64, 32, kernel_size=4, stride=2, padding=1, bias=False),\n",
    "            nn.BatchNorm2d(32),\n",
    "            nn.ReLU(),\n",
    "            nn.ConvTranspose2d(32, 16, kernel_size=4, stride=2, padding=1, bias=False),\n",
    "            nn.BatchNorm2d(16),\n",
    "            nn.ReLU(),\n",
    "            nn.ConvTranspose2d(16, 1, kernel_size=3, stride=1, padding=1),\n",
    "            nn.Tanh(),\n",
    "        )\n",
    "    \n",
    "    def forward(self, x): \n",
    "        return self.seq(x)\n",
    "\n",
    "\n",
    "class Discriminator(nn.Module):\n",
    "    def __init__(self):\n",
    "        super(Discriminator, self).__init__()\n",
    "        self.seq = nn.Sequential(\n",
    "            nn.Conv2d(1, 16, kernel_size=3, stride=2, padding=1),\n",
    "            nn.LeakyReLU(0.2),\n",
    "            nn.Conv2d(16, 32, kernel_size=4, stride=2, padding=1, bias=False),\n",
    "            nn.BatchNorm2d(32),\n",
    "            nn.LeakyReLU(0.2),\n",
    "            nn.Conv2d(32, 64, kernel_size=3, stride=2, padding=1, bias=False),\n",
    "            nn.BatchNorm2d(64),\n",
    "            nn.LeakyReLU(0.2),\n",
    "            nn.Conv2d(64, 1, kernel_size=4, stride=2, padding=0),\n",
    "            nn.Sigmoid(),\n",
    "        )\n",
    "\n",
    "    def forward(self, x):\n",
    "        return self.seq(x)"
   ]
  },
  {
   "cell_type": "code",
   "execution_count": 7,
   "id": "727f27c9",
   "metadata": {},
   "outputs": [],
   "source": [
    "z_dim = 100\n",
    "mnist_dim = train_dataset.train_data.size(1) * train_dataset.train_data.size(2)\n",
    "G = Generator().to(device)\n",
    "D = Discriminator().to(device)\n",
    "criterion = nn.BCELoss()  \n",
    "G_optimizer = optim.Adam(G.parameters(), lr = 0.0003, betas=(0.5, 0.999))\n",
    "D_optimizer = optim.Adam(D.parameters(), lr = 0.0003, betas=(0.5, 0.999))"
   ]
  },
  {
   "cell_type": "code",
   "execution_count": 8,
   "id": "127fd872",
   "metadata": {
    "collapsed": true
   },
   "outputs": [
    {
     "name": "stdout",
     "output_type": "stream",
     "text": [
      "[0/200]: loss_d: 0.997, loss_g: 1.145\n",
      "[1/200]: loss_d: 0.994, loss_g: 1.140\n",
      "[2/200]: loss_d: 1.016, loss_g: 1.137\n",
      "[3/200]: loss_d: 1.003, loss_g: 1.160\n",
      "[4/200]: loss_d: 0.992, loss_g: 1.192\n",
      "[5/200]: loss_d: 0.992, loss_g: 1.212\n",
      "[6/200]: loss_d: 0.987, loss_g: 1.229\n",
      "[7/200]: loss_d: 0.978, loss_g: 1.249\n",
      "[8/200]: loss_d: 0.970, loss_g: 1.264\n",
      "[9/200]: loss_d: 0.969, loss_g: 1.279\n",
      "[10/200]: loss_d: 0.957, loss_g: 1.303\n",
      "[11/200]: loss_d: 0.959, loss_g: 1.309\n",
      "[12/200]: loss_d: 0.946, loss_g: 1.324\n",
      "[13/200]: loss_d: 0.946, loss_g: 1.348\n",
      "[14/200]: loss_d: 0.938, loss_g: 1.347\n",
      "[15/200]: loss_d: 0.926, loss_g: 1.373\n",
      "[16/200]: loss_d: 0.925, loss_g: 1.385\n",
      "[17/200]: loss_d: 0.919, loss_g: 1.396\n",
      "[18/200]: loss_d: 0.917, loss_g: 1.400\n",
      "[19/200]: loss_d: 0.913, loss_g: 1.408\n",
      "[20/200]: loss_d: 0.909, loss_g: 1.409\n",
      "[21/200]: loss_d: 0.902, loss_g: 1.434\n",
      "[22/200]: loss_d: 0.894, loss_g: 1.446\n",
      "[23/200]: loss_d: 0.889, loss_g: 1.462\n",
      "[24/200]: loss_d: 0.887, loss_g: 1.458\n",
      "[25/200]: loss_d: 0.888, loss_g: 1.466\n",
      "[26/200]: loss_d: 0.864, loss_g: 1.492\n",
      "[27/200]: loss_d: 0.871, loss_g: 1.497\n",
      "[28/200]: loss_d: 0.863, loss_g: 1.512\n",
      "[29/200]: loss_d: 0.853, loss_g: 1.527\n",
      "[30/200]: loss_d: 0.859, loss_g: 1.523\n",
      "[31/200]: loss_d: 0.855, loss_g: 1.535\n",
      "[32/200]: loss_d: 0.822, loss_g: 1.572\n"
     ]
    },
    {
     "ename": "KeyboardInterrupt",
     "evalue": "",
     "output_type": "error",
     "traceback": [
      "\u001b[1;31m---------------------------------------------------------------------------\u001b[0m",
      "\u001b[1;31mKeyboardInterrupt\u001b[0m                         Traceback (most recent call last)",
      "Cell \u001b[1;32mIn[8], line 30\u001b[0m\n\u001b[0;32m     27\u001b[0m G\u001b[38;5;241m.\u001b[39mzero_grad()\n\u001b[0;32m     29\u001b[0m \u001b[38;5;66;03m#z = torch.randn(100, z_dim).to(device)\u001b[39;00m\n\u001b[1;32m---> 30\u001b[0m y \u001b[38;5;241m=\u001b[39m torch\u001b[38;5;241m.\u001b[39mones(\u001b[38;5;241m100\u001b[39m, \u001b[38;5;241m1\u001b[39m)\u001b[38;5;241m.\u001b[39mto(device)\n\u001b[0;32m     32\u001b[0m G_output \u001b[38;5;241m=\u001b[39m G(z)\n\u001b[0;32m     33\u001b[0m D_output \u001b[38;5;241m=\u001b[39m D(G_output)\n",
      "\u001b[1;31mKeyboardInterrupt\u001b[0m: "
     ]
    }
   ],
   "source": [
    "for epoch in range(0, 200+1):           \n",
    "    D_losses, G_losses = [], []\n",
    "    for batch_idx, (x, _) in enumerate(train_loader):\n",
    "        # _______Discriminator____________\n",
    "        D.zero_grad()\n",
    "        \n",
    "        x_real, y_real = x.to(device), torch.ones(100, 1).to(device)\n",
    "\n",
    "        D_output = D(x_real)\n",
    "        D_real_loss = criterion(D_output.view(-1).reshape(100, 1), y_real)\n",
    "\n",
    "        z = torch.randn((100, z_dim, 1, 1)).to(device)\n",
    "        x_fake, y_fake = G(z), torch.zeros(100, 1).to(device)\n",
    "\n",
    "        D_output = D(x_fake)\n",
    "        D_fake_loss = criterion(D_output.view(-1).reshape(100, 1), y_fake)\n",
    "\n",
    "        D_loss = D_real_loss + D_fake_loss\n",
    "        D_loss.backward()\n",
    "        D_optimizer.step()\n",
    "        D_losses.append(D_loss.item())\n",
    "        \n",
    "        # _______Generator____________\n",
    "        G.zero_grad()\n",
    "\n",
    "        y = torch.ones(100, 1).to(device)\n",
    "\n",
    "        G_output = G(z)\n",
    "        D_output = D(G_output)\n",
    "        G_loss = criterion(D_output.view(-1).reshape(100, 1), y)\n",
    "        G_loss.backward()\n",
    "        G_optimizer.step() \n",
    "        G_losses.append(G_loss.item())\n",
    "\n",
    "    print('[%d/%d]: loss_d: %.3f, loss_g: %.3f' % (\n",
    "            (epoch), 200, torch.mean(torch.FloatTensor(D_losses)), torch.mean(torch.FloatTensor(G_losses))))\n",
    "    \n",
    "    if epoch % 2 == 0:\n",
    "        with torch.no_grad():\n",
    "            generated = G(z)\n",
    "            save_image(generated.view(generated.size(0), 1, 28, 28), './conv_gan_samples/{}'.format(epoch) + '.png')"
   ]
  }
 ],
 "metadata": {
  "kernelspec": {
   "display_name": "Python 3 (ipykernel)",
   "language": "python",
   "name": "python3"
  },
  "language_info": {
   "codemirror_mode": {
    "name": "ipython",
    "version": 3
   },
   "file_extension": ".py",
   "mimetype": "text/x-python",
   "name": "python",
   "nbconvert_exporter": "python",
   "pygments_lexer": "ipython3",
   "version": "3.11.5"
  }
 },
 "nbformat": 4,
 "nbformat_minor": 5
}
